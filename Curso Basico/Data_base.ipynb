{
 "cells": [
  {
   "cell_type": "code",
   "execution_count": 34,
   "metadata": {},
   "outputs": [
    {
     "name": "stdout",
     "output_type": "stream",
     "text": [
      "You entered your phone brand --HUAWEI--\n"
     ]
    }
   ],
   "source": [
    "class info:\n",
    "    \n",
    "    def __init__(self,name,smartphone,car):\n",
    "        self.name = name\n",
    "        self.smartphone = smartphone\n",
    "        self.car = car\n",
    "        print(\"You entered your phone brand\",self.smartphone)\n",
    "        \n",
    "  \n",
    "x = info(\"Fernando\",\"--HUAWEI--\",\"tesla\")\n"
   ]
  },
  {
   "cell_type": "code",
   "execution_count": 35,
   "metadata": {},
   "outputs": [
    {
     "data": {
      "text/plain": [
       "'<__main__.info object at 0x10d21f7b8>'"
      ]
     },
     "execution_count": 35,
     "metadata": {},
     "output_type": "execute_result"
    }
   ],
   "source": [
    "str(x)"
   ]
  },
  {
   "cell_type": "code",
   "execution_count": 51,
   "metadata": {},
   "outputs": [
    {
     "name": "stdout",
     "output_type": "stream",
     "text": [
      "You entered your phone brand HUAWEI\n"
     ]
    }
   ],
   "source": [
    "class info:\n",
    "    \n",
    "    def __init__(self,name,smartphone,car,batery):\n",
    "        self.name = name\n",
    "        self.smartphone = smartphone\n",
    "        self.car = car\n",
    "        self.batery = batery\n",
    "        print(\"You entered your phone brand\",self.smartphone)\n",
    "  \n",
    "    def __str__(self):\n",
    "        return \"{} have the phone {} and the car {}\".format(self.name,self.smartphone,self.car)\n",
    "    def __len__(self):\n",
    "        return self.batery\n",
    "x = info(\"Fernando\",\"HUAWEI\",\"Tesla\",20)\n",
    "\n"
   ]
  },
  {
   "cell_type": "code",
   "execution_count": 52,
   "metadata": {},
   "outputs": [
    {
     "data": {
      "text/plain": [
       "'Fernando have the phone HUAWEI and the car Tesla'"
      ]
     },
     "execution_count": 52,
     "metadata": {},
     "output_type": "execute_result"
    }
   ],
   "source": [
    "str(x)\n"
   ]
  },
  {
   "cell_type": "code",
   "execution_count": 53,
   "metadata": {},
   "outputs": [
    {
     "data": {
      "text/plain": [
       "20"
      ]
     },
     "execution_count": 53,
     "metadata": {},
     "output_type": "execute_result"
    }
   ],
   "source": [
    "len(x)"
   ]
  },
  {
   "cell_type": "code",
   "execution_count": 58,
   "metadata": {},
   "outputs": [],
   "source": [
    "#create a class database\n",
    "\n",
    "class Database:\n",
    "    info = []\n",
    "    \n",
    "    def __init__(self,info=[]):\n",
    "        self.info = info\n",
    "    \n",
    "    def agregar(self,x):\n",
    "        self.info.append(x)\n",
    "        \n",
    "    def mostrar(self):\n",
    "        for x in self.info:\n",
    "            print(x)"
   ]
  },
  {
   "cell_type": "code",
   "execution_count": 61,
   "metadata": {},
   "outputs": [
    {
     "name": "stdout",
     "output_type": "stream",
     "text": [
      "You entered your phone brand samsung\n"
     ]
    }
   ],
   "source": [
    "x = info(\"Mariana\",\"samsung\",\"jeep\",\"110\")\n",
    "c = Database([x])"
   ]
  },
  {
   "cell_type": "code",
   "execution_count": 62,
   "metadata": {},
   "outputs": [
    {
     "name": "stdout",
     "output_type": "stream",
     "text": [
      "Mariana have the phone samsung and the car jeep\n"
     ]
    }
   ],
   "source": [
    "c.mostrar()"
   ]
  },
  {
   "cell_type": "code",
   "execution_count": 64,
   "metadata": {},
   "outputs": [
    {
     "name": "stdout",
     "output_type": "stream",
     "text": [
      "You entered your phone brand Iphone\n"
     ]
    }
   ],
   "source": [
    "c.agregar(info(\"Regina\",\"Iphone\",\"Volvo\",\"30\"))"
   ]
  },
  {
   "cell_type": "code",
   "execution_count": 65,
   "metadata": {},
   "outputs": [
    {
     "name": "stdout",
     "output_type": "stream",
     "text": [
      "Mariana have the phone samsung and the car jeep\n",
      "Regina have the phone Iphone and the car Volvo\n"
     ]
    }
   ],
   "source": [
    "c.mostrar()"
   ]
  },
  {
   "cell_type": "code",
   "execution_count": null,
   "metadata": {},
   "outputs": [],
   "source": [
    "\n"
   ]
  }
 ],
 "metadata": {
  "kernelspec": {
   "display_name": "Python 3",
   "language": "python",
   "name": "python3"
  },
  "language_info": {
   "codemirror_mode": {
    "name": "ipython",
    "version": 3
   },
   "file_extension": ".py",
   "mimetype": "text/x-python",
   "name": "python",
   "nbconvert_exporter": "python",
   "pygments_lexer": "ipython3",
   "version": "3.7.3"
  }
 },
 "nbformat": 4,
 "nbformat_minor": 2
}
