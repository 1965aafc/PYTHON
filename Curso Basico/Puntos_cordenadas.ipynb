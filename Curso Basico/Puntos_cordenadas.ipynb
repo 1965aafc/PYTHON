{
 "cells": [
  {
   "cell_type": "code",
   "execution_count": 40,
   "metadata": {},
   "outputs": [
    {
     "name": "stdout",
     "output_type": "stream",
     "text": [
      "la base del rectangulo es : 3\n",
      "La altura del rectangulo es: 2\n",
      "El area del rectangulo es : 6\n"
     ]
    }
   ],
   "source": [
    "import math\n",
    "\n",
    "class Punto:\n",
    "\n",
    "    def __init__(self, x=0, y=0):\n",
    "        self.x = x\n",
    "        self.y = y\n",
    "\n",
    "    def __str__(self):\n",
    "        return \"({}, {})\".format(self.x, self.y)\n",
    "\n",
    "    def cuadrante(self):\n",
    "        if self.x > 0 and self.y > 0:\n",
    "            print(\"{} - pertenece al primer cuadrante\".format(self))\n",
    "        elif self.x < 0 and self.y > 0:\n",
    "            print(\"{} - pertenece al segundo cuadrante\".format(self))\n",
    "        elif self.x < 0 and self.y < 0:\n",
    "            print(\"{} - pertenece al tercer cuadrante\".format(self))\n",
    "        elif self.x > 0 and self.y < 0:\n",
    "            print(\"{} - pertenece al cuarto cuadrante\".format(self))\n",
    "        elif self.x != 0 and self.y == 0:\n",
    "            print(\"{} - se sitúa sobre el eje X\".format(self))\n",
    "        elif self.x == 0 and self.y != 0:\n",
    "            print(\"{} - se sitúa sobre el eje Y\".format(self))\n",
    "        else:\n",
    "            print(\"{} - se encuentra sobre el origen\".format(self))\n",
    "\n",
    "    def vector(self, p):\n",
    "        print(\"El vector entre {} y {} es ({}, {})\".format(\n",
    "            self, p, p.x - self.x, p.y - self.y) )\n",
    "\n",
    "    def distancia(self, p):\n",
    "        d = math.sqrt( (p.x - self.x)**2 + (p.y - self.y)**2 )\n",
    "        print(\"La distancia entre los puntos {} y {} es {}\".format(\n",
    "            self, p, d))\n",
    "\n",
    "class Rectangulo:\n",
    "    \n",
    "    def __init__(self,pinicial=Punto(),pfinal=Punto()):\n",
    "        \n",
    "        self.pinicial = pinicial\n",
    "        self.pfinal = pfinal\n",
    "        \n",
    "    def base(self):\n",
    "        \n",
    "        self.base = abs(self.pfinal.x - self.pinicial.x)\n",
    "        print(\"la base del rectangulo es : {}\".format( self.base ))\n",
    "        \n",
    "    def altura(self):\n",
    "        self.altura = abs(self.pfinal.y - self.pinicial.y)\n",
    "        print(\"La altura del rectangulo es: {}\".format(self.altura))\n",
    "        \n",
    "    def area(self):\n",
    "        self.base = abs(self.pfinal.x - self.pinicial.x)\n",
    "        self.altura = abs(self.pfinal.y - self.pinicial.y)\n",
    "        self.area = self.base * self.altura\n",
    "        print(\"El area del rectangulo es : {}\".format(self.area))\n",
    "        \n",
    "        \n",
    "        \n",
    "        \n",
    "        \n",
    "        \n",
    "        \n",
    "        \n",
    "\n",
    " #creamos cordenadas\n",
    "A = Punto(2,3)\n",
    "B = Punto(5,5)\n",
    "C = Punto(-3, -1)\n",
    "D = Punto(0,0)\n",
    "\n",
    "\n",
    "\n",
    "##---- CREACION RECTANGULO ----##\n",
    "R = Rectangulo(A, B)\n",
    "R.base()\n",
    "R.altura()\n",
    "R.area()"
   ]
  },
  {
   "cell_type": "code",
   "execution_count": null,
   "metadata": {},
   "outputs": [],
   "source": []
  }
 ],
 "metadata": {
  "kernelspec": {
   "display_name": "Python 3",
   "language": "python",
   "name": "python3"
  },
  "language_info": {
   "codemirror_mode": {
    "name": "ipython",
    "version": 3
   },
   "file_extension": ".py",
   "mimetype": "text/x-python",
   "name": "python",
   "nbconvert_exporter": "python",
   "pygments_lexer": "ipython3",
   "version": "3.7.3"
  }
 },
 "nbformat": 4,
 "nbformat_minor": 2
}
