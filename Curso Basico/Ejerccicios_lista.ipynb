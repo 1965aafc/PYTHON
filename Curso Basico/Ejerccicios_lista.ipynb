{
 "cells": [
  {
   "cell_type": "code",
   "execution_count": 9,
   "metadata": {},
   "outputs": [],
   "source": [
    "texto = \"un día que el viento soplaba con fuerza#mira como se mueve aquella banderola -dijo un monje#lo que se mueve es el viento -respondió otro monje#ni las banderolas ni el viento, lo que se mueve son vuestras mentes -dijo el maestro\""
   ]
  },
  {
   "cell_type": "code",
   "execution_count": 10,
   "metadata": {},
   "outputs": [
    {
     "name": "stdout",
     "output_type": "stream",
     "text": [
      "Un día que el viento soplaba con fuerza...\n",
      "- Mira como se mueve aquella banderola -dijo un monje.\n",
      "- Lo que se mueve es el viento -respondió otro monje.\n",
      "- Ni las banderolas ni el viento, lo que se mueve son vuestras mentes -dijo el maestro.\n"
     ]
    }
   ],
   "source": [
    "lineas = texto.split(\"#\")\n",
    "\n",
    "for i, linea in enumerate(lineas):\n",
    "    lineas[i] = linea.capitalize()\n",
    "    if  i == 0:\n",
    "        lineas[i] = lineas[i] + \"...\"\n",
    "    else:\n",
    "        lineas[i] = \"- \" + lineas[i] + \".\"\n",
    "\n",
    "for linea in lineas:\n",
    "    print(linea)"
   ]
  },
  {
   "cell_type": "code",
   "execution_count": 16,
   "metadata": {},
   "outputs": [
    {
     "name": "stdout",
     "output_type": "stream",
     "text": [
      "True\n",
      "[29, -5, -12, 17, 5, 24, 5, 12, 23, 16, 12, 5, -12, 17]\n"
     ]
    }
   ],
   "source": [
    "#EJERCICIO 2\n",
    "lista = [29, -5, -12, 17, 5, 24, 5, 12, 23, 16, 12, 5, -12, 17]\n",
    "\n",
    "def modificar(l):\n",
    "    l = list(set(l))\n",
    "    l.sort(reverse=True)\n",
    "    for i,n in enumerate(l):\n",
    "        if n%2 != 0:\n",
    "            del( l[i] )\n",
    "            \n",
    "    suma = sum(l)\n",
    "    l.insert(0,suma)\n",
    "    return l\n",
    "\n",
    "nueva_lista = modificar(lista)\n",
    "\n",
    "print(nueva_lista[0] == sum(nueva_lista[1:]))\n",
    "print(lista)"
   ]
  },
  {
   "cell_type": "code",
   "execution_count": null,
   "metadata": {},
   "outputs": [],
   "source": []
  }
 ],
 "metadata": {
  "kernelspec": {
   "display_name": "Python 3",
   "language": "python",
   "name": "python3"
  },
  "language_info": {
   "codemirror_mode": {
    "name": "ipython",
    "version": 3
   },
   "file_extension": ".py",
   "mimetype": "text/x-python",
   "name": "python",
   "nbconvert_exporter": "python",
   "pygments_lexer": "ipython3",
   "version": "3.7.3"
  }
 },
 "nbformat": 4,
 "nbformat_minor": 2
}
