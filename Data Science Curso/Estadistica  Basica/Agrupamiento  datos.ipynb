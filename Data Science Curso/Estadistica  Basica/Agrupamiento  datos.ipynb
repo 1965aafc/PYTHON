{
 "cells": [
  {
   "cell_type": "markdown",
   "metadata": {},
   "source": [
    "# ¿Que son los datos?\n",
    "\n",
    "Mediante este termino entenderemos al conjunto de observaciones de una o varias variables de interes para los elementos de una muestra.\n",
    "\n",
    "# AGRUPAMIENTO\n",
    "\n",
    "Una clase es una agrupacion de valores de una variable.\n",
    "\n",
    "Existen métodos para resumir los datos medidos u observados.\n",
    "\n",
    "Cuando se trata de variables cualitativas donde las categorías están determinadas, lo único que hay que hacer es contabilizar el número de casos pertenecientes a cada categoría y normalizar en relación al número total de casos, calculando una proporción, un porcentaje o una razón.\n",
    "\n",
    "En cambio, cuando se trata de variables cuantitativas, el resumen de los datos consiste en organizar tablas que sintetizan los datos originales y se denominan distribuciones de frecuencia.\n",
    "\n",
    "# Frecuencia: \n",
    "\n",
    "Es el número de veces que se presenta cada valor de la variable.\n",
    "\n",
    "Tabla de frecuencias: es una tabla que presenta en forma ordenada los distintos valores de una variable y sus correspondientes frecuencias."
   ]
  },
  {
   "cell_type": "code",
   "execution_count": null,
   "metadata": {},
   "outputs": [],
   "source": []
  }
 ],
 "metadata": {
  "kernelspec": {
   "display_name": "Python 3",
   "language": "python",
   "name": "python3"
  },
  "language_info": {
   "codemirror_mode": {
    "name": "ipython",
    "version": 3
   },
   "file_extension": ".py",
   "mimetype": "text/x-python",
   "name": "python",
   "nbconvert_exporter": "python",
   "pygments_lexer": "ipython3",
   "version": "3.7.3"
  }
 },
 "nbformat": 4,
 "nbformat_minor": 2
}
